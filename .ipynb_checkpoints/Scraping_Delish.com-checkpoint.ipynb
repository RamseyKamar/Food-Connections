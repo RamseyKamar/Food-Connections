{
 "cells": [
  {
   "cell_type": "code",
   "execution_count": 14,
   "metadata": {
    "collapsed": false
   },
   "outputs": [],
   "source": [
    "from urllib2 import urlopen\n",
    "import lxml\n",
    "from bs4 import BeautifulSoup\n",
    "import re\n",
    "from time import sleep\n",
    "import random\n",
    "import sys\n",
    "import json\n",
    "import gc"
   ]
  },
  {
   "cell_type": "code",
   "execution_count": 15,
   "metadata": {
    "collapsed": false
   },
   "outputs": [],
   "source": [
    "BASE_URL = \"http://www.delish.com/\""
   ]
  },
  {
   "cell_type": "code",
   "execution_count": 18,
   "metadata": {
    "collapsed": false
   },
   "outputs": [],
   "source": [
    "def generate_landingfeed_link(pagenum):\n",
    "    \"\"\"\n",
    "    Each landing page contains a chunk (~60) of recipes. Get new pages by \n",
    "    incrementing the page number in the url string 'XXX'  '...special/1/XXX?&id=.....\n",
    "    \"\"\"\n",
    "        \n",
    "    #concatenate relevent fragments of a url with a pagenumber\n",
    "    if pagenum <= 71: #only 71 pages exist\n",
    "        landing_page_link = (BASE_URL + '/landing-feed-special/1/' + str(pagenum) +\n",
    "                             '?&id=12&template=contenttype&landing=recipes')\n",
    "        print \"Generated link for landing page: %i\" %(pagenum)\n",
    "        return landing_page_link\n",
    "    else:\n",
    "        print \"Didn\\'t get link. There are only 71 landing pages.\\n\"\n",
    "        return -1\n",
    "    \n",
    "\n",
    "def get_recipe_links(lp_link):\n",
    "    \"\"\"\n",
    "    Gets all the href links on a given landing page.\n",
    "    \"\"\"\n",
    "    try:\n",
    "        html = urlopen(lp_link).read()\n",
    "        print \"Succesfully opened link: %s\\n\" %(lp_link)\n",
    "    except:\n",
    "        print \"%s is not a working link.\\n\" %(lp_link)\n",
    "        return -1\n",
    "    soup = BeautifulSoup(html,'lxml')\n",
    "    #put all links for a given page in a list\n",
    "    recipe_links = [BASE_URL + a['href'] for a in soup.findAll(\"a\",\"landing-feed--special-title link link-txt\")]\n",
    "    soup.decompose()\n",
    "    del html\n",
    "    gc.collect()\n",
    "    return recipe_links\n",
    "    \n",
    "\n",
    "def read_recipe_link(recipe_link):\n",
    "    \"\"\"\n",
    "    Given a link to a recipe on Delish.com, get the name of the recipe and the list of ingredients\n",
    "    \"\"\"\n",
    "    try:\n",
    "        html = urlopen(recipe_link).read()\n",
    "    except:\n",
    "        print \"%s is not a working link.\\n\" %(recipe_link)\n",
    "        return -1\n",
    "    soup = BeautifulSoup(html,'lxml')\n",
    "    #this line gets the recipe name from the article-header\n",
    "    recipe_name = soup.find(\"header\",\"article-header\").h1.string\n",
    "    #print \"Succesfully read recipe name from recipe link: %s \"%(recipe_link) #####testing\n",
    "    soup_objs = soup.find('ul','recipe-list recipe-ingredients-list').findAll('li','recipe-ingredients-item')\n",
    "    #get the ingredients list. Every ingredient is preceded by an annoying newline character. Remove it\n",
    "    #before adding to the list. Make sure elem.string returns a string, otherwise skip it.\n",
    "    ingredients = [elem.string.replace('\\n','') for elem in soup_objs if isinstance(elem.string, basestring)]\n",
    "    #return the name of the recipe and its ingredients in a dictionary object\n",
    "    soup.decompose()\n",
    "    del soup_objs\n",
    "    del html\n",
    "    gc.collect()\n",
    "    return {recipe_name:ingredients} \n",
    "    \n",
    "def get_all_recipes(page_range):\n",
    "    \"\"\"\n",
    "    Get all the recipes names and ingredients and store them in a dictionary where the keys are the name and\n",
    "    the ingredients list is the value: {recipe1: [ingr1, ingr2, ....], recipe2:[ingr1, ....]}\n",
    "    \"\"\"\n",
    "    allowed_pagenumbers = set(range(1,72))\n",
    "    \n",
    "    if not set(page_range).issubset(allowed_pagenumbers):\n",
    "        print \"Didn\\'t get any recipes. Can only look at pages 1 thru 71.\"\n",
    "        return\n",
    "    \n",
    "    all_recipe_links = []\n",
    "    \n",
    "    #concatenate all the recipe links\n",
    "    for pagenum in page_range:\n",
    "        landing_page_link =  generate_landingfeed_link(pagenum)\n",
    "        recipe_links = get_recipe_links(landing_page_link)\n",
    "        if recipe_links != -1:\n",
    "            all_recipe_links.extend(recipe_links)\n",
    "        else:\n",
    "            print \"Had to terminate scraping because a landing page link was bad.\\n\"\n",
    "            return\n",
    "        sleep(random.uniform(2.0, 4.0)) #add a random amount of deadtime so that the server isn't overloaded\n",
    "    \n",
    "    recipeName_ingredients = []\n",
    "    #add each recipe to the list recipe_ingredients which contains json objects\n",
    "    #of the form {\"recipe name\": [list of ingredients]}\n",
    "    print \"There are a total of %i recipe links.\\n\" %(len(all_recipe_links))\n",
    "    for rlink in all_recipe_links:\n",
    "        recipe = read_recipe_link(rlink)\n",
    "        if recipe != -1:\n",
    "            recipeName_ingredients.append(recipe)\n",
    "        else:\n",
    "            print \"Had to terminate scraping because a recipe link was bad.\\n\"\n",
    "            return\n",
    "        sleep(random.uniform(0.02, .04)) #add a random amount of deadtime so that the server isn't overloaded\n",
    "        #print recipe.keys()###for troubleshooting\n",
    "    return recipeName_ingredients\n",
    "        "
   ]
  },
  {
   "cell_type": "code",
   "execution_count": 5,
   "metadata": {
    "collapsed": false
   },
   "outputs": [
    {
     "name": "stdout",
     "output_type": "stream",
     "text": [
      "Generated link for landing page: 1\n",
      "Succesfully opened link: http://www.delish.com//landing-feed-special/1/1?&id=12&template=contenttype&landing=recipes\n",
      "\n",
      "Generated link for landing page: 2\n",
      "Succesfully opened link: http://www.delish.com//landing-feed-special/1/2?&id=12&template=contenttype&landing=recipes\n",
      "\n",
      "Generated link for landing page: 3\n",
      "Succesfully opened link: http://www.delish.com//landing-feed-special/1/3?&id=12&template=contenttype&landing=recipes\n",
      "\n",
      "There are a total of 176 recipe links.\n",
      "\n"
     ]
    }
   ],
   "source": [
    "recipes1_3 = get_all_recipes([1,2,3])"
   ]
  },
  {
   "cell_type": "code",
   "execution_count": 20,
   "metadata": {
    "collapsed": false
   },
   "outputs": [
    {
     "name": "stdout",
     "output_type": "stream",
     "text": [
      "Generated link for landing page: 5\n",
      "Succesfully opened link: http://www.delish.com//landing-feed-special/1/5?&id=12&template=contenttype&landing=recipes\n",
      "\n",
      "There are a total of 60 recipe links.\n",
      "\n",
      "Succesfully read recipe name from recipe link: http://www.delish.com//cooking/recipe-ideas/recipes/a35479/pasta-walnut-pesto-peas-recipe-wdy0413/ \n",
      "Succesfully read recipe name from recipe link: http://www.delish.com//cooking/recipe-ideas/recipes/a24/coconut-cream-pie-smoothie-recipe-del0115/ \n",
      "Succesfully read recipe name from recipe link: http://www.delish.com//cooking/recipe-ideas/recipes/a35593/spicy-fish-taco-filling-recipe-wdy0513/ \n",
      "Succesfully read recipe name from recipe link: http://www.delish.com//cooking/recipe-ideas/recipes/a35979/crispy-coconut-scallion-breaded-chicken-cutlets-recipe-wdy0114/ \n",
      "Succesfully read recipe name from recipe link: http://www.delish.com//cooking/recipe-ideas/recipes/a32732/tortellini-primavera-recipe-121199/ \n",
      "Succesfully read recipe name from recipe link: http://www.delish.com//cooking/recipe-ideas/recipes/a36190/skillet-roasted-cauliflower-sausage-rigatoni-recipe-clx0215/ \n",
      "Succesfully read recipe name from recipe link: http://www.delish.com//cooking/recipe-ideas/recipes/a36442/chicken-tortilla-pie-recipe-wdy0215/ \n",
      "Succesfully read recipe name from recipe link: http://www.delish.com//cooking/recipe-ideas/recipes/a35092/roasted-shrimp-scampi-recipe-wdy1012/ \n",
      "Succesfully read recipe name from recipe link: http://www.delish.com//cooking/recipe-ideas/recipes/a36915/beef-rice-stuffed-peppers-recipe-wdy0215/ \n",
      "Succesfully read recipe name from recipe link: http://www.delish.com//cooking/recipe-ideas/recipes/a36865/spiced-tilapia-orange-scallion-couscous-recipe-wdy0215/ \n",
      "Succesfully read recipe name from recipe link: http://www.delish.com//cooking/recipe-ideas/recipes/a36916/steak-lentil-grapefruit-salad-recipe-wdy0215/ \n",
      "Succesfully read recipe name from recipe link: http://www.delish.com//cooking/recipe-ideas/recipes/a19432/orange-ginger-turkey-meat-loaf-recipe/ \n",
      "Succesfully read recipe name from recipe link: http://www.delish.com//cooking/recipe-ideas/recipes/a36510/creamy-chicken-broccoli-pesto-bow-ties-recipe-clx0215/ \n",
      "Succesfully read recipe name from recipe link: http://www.delish.com//cooking/recipe-ideas/recipes/a36868/queso-mac-cheese-recipe-clx0215/ \n",
      "Succesfully read recipe name from recipe link: http://www.delish.com//cooking/recipe-ideas/recipes/a36914/pancetta-brussels-sprouts-linguini-recipe-clx0215/ \n",
      "Succesfully read recipe name from recipe link: http://www.delish.com//cooking/recipes/a42450/boozy-funfetti-dump-cake/ \n",
      "Succesfully read recipe name from recipe link: http://www.delish.com//cooking/recipes/a42449/chocolate-caramel-and-coffee-boozy-dump-cake/ \n",
      "Succesfully read recipe name from recipe link: http://www.delish.com//cooking/recipe-ideas/recipes/a36480/california-waldorf-recipe-ghk0115/ \n",
      "Succesfully read recipe name from recipe link: http://www.delish.com//cooking/recipe-ideas/recipes/a35827/pasta-garlicky-swiss-chard-corn-recipe-wdy0913/ \n",
      "Succesfully read recipe name from recipe link: http://www.delish.com//cooking/recipes/a42451/boozy-chocolate-cherry-whiskey-dump-cake/ \n",
      "Succesfully read recipe name from recipe link: http://www.delish.com//cooking/recipe-ideas/recipes/a36864/spicy-soy-glazed-salmon-recipe-ghk0115/ \n",
      "Succesfully read recipe name from recipe link: http://www.delish.com//cooking/recipe-ideas/recipes/a36912/baked-pepper-jack-quinoa-skillet-recipe-ghk0115/ \n",
      "Succesfully read recipe name from recipe link: http://www.delish.com//cooking/recipe-ideas/recipes/a35226/sweet-potato-peanut-soup-recipe-wdy1012/ \n",
      "Succesfully read recipe name from recipe link: http://www.delish.com//cooking/recipe-ideas/recipes/a26403/oven-baked-sweet-potato-fries-3483/ \n",
      "Succesfully read recipe name from recipe link: http://www.delish.com//cooking/recipe-ideas/recipes/a21940/sweet-tangy-glazed-salmon-orange-almond-rice-recipe-wdy0913/ \n",
      "Succesfully read recipe name from recipe link: http://www.delish.com//cooking/recipe-ideas/recipes/a34478/sweet-potato-black-bean-burritos-recipe-wdy0911/ \n",
      "Succesfully read recipe name from recipe link: http://www.delish.com//cooking/recipe-ideas/recipes/a34005/sweet-apple-mustard-marinated-grilled-chicken-recipe-wdy0812/ \n",
      "Succesfully read recipe name from recipe link: http://www.delish.com//cooking/recipe-ideas/recipes/a35639/thyme-roasted-salmon-recipe-wdy0214/ \n",
      "Succesfully read recipe name from recipe link: http://www.delish.com//cooking/recipe-ideas/recipes/a36496/chicken-piccata-pasta-recipe-wdy0215/ \n",
      "Succesfully read recipe name from recipe link: http://www.delish.com//cooking/recipe-ideas/recipes/a35025/blackened-fish-green-rice-recipe-wdy1012/ \n",
      "Succesfully read recipe name from recipe link: http://www.delish.com//cooking/recipe-ideas/recipes/a36444/roasted-salmon-crispy-potatoes-broccoli-recipe-wdy0115/ \n",
      "Succesfully read recipe name from recipe link: http://www.delish.com//cooking/recipe-ideas/recipes/a19044/creamy-cheddar-pasta-with-scallion-bread-crumbs-recipe/ \n",
      "Succesfully read recipe name from recipe link: http://www.delish.com//cooking/recipe-ideas/recipes/a35753/shrimp-salad-lettuce-cups-recipe-wdy0714/ \n",
      "Succesfully read recipe name from recipe link: http://www.delish.com//cooking/recipe-ideas/recipes/a33025/orange-soy-tofu-stir-fry-121302/ \n",
      "Succesfully read recipe name from recipe link: http://www.delish.com//cooking/recipe-ideas/recipes/a36505/fusilli-broccoli-pesto-recipe-wdy0115/ \n",
      "Succesfully read recipe name from recipe link: http://www.delish.com//cooking/recipe-ideas/recipes/a36893/honey-soy-glazed-salmon-mushrooms-peppers-recipe-clx1214/ \n",
      "Succesfully read recipe name from recipe link: http://www.delish.com//cooking/recipe-ideas/recipes/a36923/roasted-sausages-sweet-potato-white-bean-stew-recipe-clx1214/ \n",
      "Succesfully read recipe name from recipe link: http://www.delish.com//cooking/recipe-ideas/recipes/a34979/crispy-chicken-salad-buttermilk-blue-cheese-dressing-recipe-wdy0613/ \n",
      "Succesfully read recipe name from recipe link: http://www.delish.com//cooking/recipe-ideas/recipes/a35112/orange-ginger-chicken-spinach-recipe-wdy0912/ \n",
      "Succesfully read recipe name from recipe link: http://www.delish.com//cooking/recipe-ideas/recipes/a23318/snickerdoodle-cookie-dough-truffles-recipe-del1214/ \n",
      "Succesfully read recipe name from recipe link: http://www.delish.com//cooking/recipe-ideas/recipes/a23379/lemon-herb-sole-crispy-potato-rafts-recipe-del1114/ \n",
      "Succesfully read recipe name from recipe link: http://www.delish.com//cooking/recipe-ideas/recipes/a34748/creamy-double-cheese-sauce-with-pasta-recipe/ \n",
      "Succesfully read recipe name from recipe link: http://www.delish.com//cooking/recipe-ideas/recipes/a34413/pasta-roasted-cauliflower-red-onions-recipe-122822/ \n",
      "Succesfully read recipe name from recipe link: http://www.delish.com//cooking/recipe-ideas/recipes/a32582/steak-verde-121217/ \n",
      "Succesfully read recipe name from recipe link: http://www.delish.com//cooking/recipe-ideas/recipes/a34900/seared-chicken-with-smashed-potatoes-and-herbed-pan-sauce-recipe/ \n",
      "Succesfully read recipe name from recipe link: http://www.delish.com//cooking/recipe-ideas/recipes/a36824/spicy-sweet-potato-quiche-cups-recipe-ghk1214/ \n",
      "Succesfully read recipe name from recipe link: http://www.delish.com//cooking/recipe-ideas/recipes/a36452/slow-cooker-sesame-garlic-chicken-recipe-ghk1214/ \n",
      "Succesfully read recipe name from recipe link: http://www.delish.com//cooking/recipe-ideas/recipes/a36811/beef-mushroom-burgundy-recipe-ghk1214/ \n",
      "Succesfully read recipe name from recipe link: http://www.delish.com//cooking/recipe-ideas/recipes/a35879/spanish-mussels-paprika-fries-recipe-ghk1214/ \n",
      "Succesfully read recipe name from recipe link: http://www.delish.com//cooking/recipe-ideas/recipes/a36440/rye-crusted-pork-chops-apple-slaw-recipe-ghk1214/ \n",
      "Succesfully read recipe name from recipe link: http://www.delish.com//cooking/recipe-ideas/recipes/a36796/parmesan-sausage-bolognese-recipe-ghk1214/ \n",
      "Succesfully read recipe name from recipe link: http://www.delish.com//cooking/recipe-ideas/recipes/a36781/hanukkah-donuts-recipe-ghk1214/ \n",
      "Succesfully read recipe name from recipe link: http://www.delish.com//cooking/recipe-ideas/recipes/a33209/mustard-glazed-salmon-steaks-121289/ \n",
      "Succesfully read recipe name from recipe link: http://www.delish.com//cooking/recipe-ideas/recipes/a36770/winter-veggie-tarts-recipe-ghk1214/ \n",
      "Succesfully read recipe name from recipe link: http://www.delish.com//cooking/recipe-ideas/recipes/a36754/salmon-sweet-potatoes-recipe-ghk1214/ \n",
      "Succesfully read recipe name from recipe link: http://www.delish.com//cooking/recipe-ideas/recipes/a35865/sweet-pepper-sauce-recipe-ghk1214/ \n",
      "Succesfully read recipe name from recipe link: http://www.delish.com//cooking/recipe-ideas/recipes/a36741/coffee-rubbed-beef-tenderloin-recipe-ghk1214/ \n",
      "Succesfully read recipe name from recipe link: http://www.delish.com//cooking/recipe-ideas/recipes/a36826/tart-elderflower-cocktail-recipe-ghk1214/ \n",
      "Succesfully read recipe name from recipe link: http://www.delish.com//cooking/recipe-ideas/recipes/a36508/spiced-chai-nog-recipe-ghk1214/ \n",
      "Succesfully read recipe name from recipe link: http://www.delish.com//cooking/recipe-ideas/recipes/a36818/herb-sauce-recipe-ghk1214/ \n"
     ]
    }
   ],
   "source": [
    "recipes5 = get_all_recipes([5])"
   ]
  },
  {
   "cell_type": "code",
   "execution_count": 13,
   "metadata": {
    "collapsed": false
   },
   "outputs": [
    {
     "data": {
      "text/plain": [
       "12383864"
      ]
     },
     "execution_count": 13,
     "metadata": {},
     "output_type": "execute_result"
    }
   ],
   "source": [
    "sys.getsizeof(gc.get_objects())"
   ]
  },
  {
   "cell_type": "code",
   "execution_count": 7,
   "metadata": {
    "collapsed": false
   },
   "outputs": [
    {
     "name": "stdout",
     "output_type": "stream",
     "text": [
      "Generated link for landing page: 7\n",
      "Succesfully opened link: http://www.delish.com//landing-feed-special/1/7?&id=12&template=contenttype&landing=recipes\n",
      "\n",
      "Generated link for landing page: 8\n",
      "Succesfully opened link: http://www.delish.com//landing-feed-special/1/8?&id=12&template=contenttype&landing=recipes\n",
      "\n",
      "Generated link for landing page: 9\n",
      "Succesfully opened link: http://www.delish.com//landing-feed-special/1/9?&id=12&template=contenttype&landing=recipes\n",
      "\n",
      "There are a total of 180 recipe links.\n",
      "\n"
     ]
    }
   ],
   "source": [
    "recipes7_9 = get_all_recipes([7,8,9])"
   ]
  },
  {
   "cell_type": "code",
   "execution_count": 21,
   "metadata": {
    "collapsed": false
   },
   "outputs": [
    {
     "name": "stdout",
     "output_type": "stream",
     "text": [
      "Generated link for landing page: 10\n",
      "Succesfully opened link: http://www.delish.com//landing-feed-special/1/10?&id=12&template=contenttype&landing=recipes\n",
      "\n",
      "Generated link for landing page: 11\n",
      "Succesfully opened link: http://www.delish.com//landing-feed-special/1/11?&id=12&template=contenttype&landing=recipes\n",
      "\n",
      "Generated link for landing page: 12\n",
      "Succesfully opened link: http://www.delish.com//landing-feed-special/1/12?&id=12&template=contenttype&landing=recipes\n",
      "\n",
      "There are a total of 180 recipe links.\n",
      "\n"
     ]
    }
   ],
   "source": [
    "recipes10_12 = get_all_recipes([10,11,12])"
   ]
  },
  {
   "cell_type": "code",
   "execution_count": 22,
   "metadata": {
    "collapsed": false
   },
   "outputs": [
    {
     "name": "stdout",
     "output_type": "stream",
     "text": [
      "Generated link for landing page: 13\n",
      "Succesfully opened link: http://www.delish.com//landing-feed-special/1/13?&id=12&template=contenttype&landing=recipes\n",
      "\n",
      "Generated link for landing page: 14\n",
      "Succesfully opened link: http://www.delish.com//landing-feed-special/1/14?&id=12&template=contenttype&landing=recipes\n",
      "\n",
      "Generated link for landing page: 15\n",
      "Succesfully opened link: http://www.delish.com//landing-feed-special/1/15?&id=12&template=contenttype&landing=recipes\n",
      "\n",
      "There are a total of 180 recipe links.\n",
      "\n"
     ]
    }
   ],
   "source": [
    "recipes13_15 = get_all_recipes([13,14,15])"
   ]
  },
  {
   "cell_type": "code",
   "execution_count": 23,
   "metadata": {
    "collapsed": false
   },
   "outputs": [
    {
     "name": "stdout",
     "output_type": "stream",
     "text": [
      "Generated link for landing page: 16\n",
      "Succesfully opened link: http://www.delish.com//landing-feed-special/1/16?&id=12&template=contenttype&landing=recipes\n",
      "\n",
      "Generated link for landing page: 17\n",
      "Succesfully opened link: http://www.delish.com//landing-feed-special/1/17?&id=12&template=contenttype&landing=recipes\n",
      "\n",
      "Generated link for landing page: 18\n",
      "Succesfully opened link: http://www.delish.com//landing-feed-special/1/18?&id=12&template=contenttype&landing=recipes\n",
      "\n",
      "There are a total of 180 recipe links.\n",
      "\n"
     ]
    }
   ],
   "source": [
    "recipes16_18 = get_all_recipes([16,17,18])"
   ]
  },
  {
   "cell_type": "code",
   "execution_count": 24,
   "metadata": {
    "collapsed": false
   },
   "outputs": [
    {
     "name": "stdout",
     "output_type": "stream",
     "text": [
      "Generated link for landing page: 19\n",
      "Succesfully opened link: http://www.delish.com//landing-feed-special/1/19?&id=12&template=contenttype&landing=recipes\n",
      "\n",
      "Generated link for landing page: 20\n",
      "Succesfully opened link: http://www.delish.com//landing-feed-special/1/20?&id=12&template=contenttype&landing=recipes\n",
      "\n",
      "Generated link for landing page: 21\n",
      "Succesfully opened link: http://www.delish.com//landing-feed-special/1/21?&id=12&template=contenttype&landing=recipes\n",
      "\n",
      "Generated link for landing page: 22\n",
      "Succesfully opened link: http://www.delish.com//landing-feed-special/1/22?&id=12&template=contenttype&landing=recipes\n",
      "\n",
      "There are a total of 240 recipe links.\n",
      "\n"
     ]
    }
   ],
   "source": [
    "recipes19_22 = get_all_recipes([19,20,21,22])"
   ]
  },
  {
   "cell_type": "code",
   "execution_count": 25,
   "metadata": {
    "collapsed": false
   },
   "outputs": [
    {
     "name": "stdout",
     "output_type": "stream",
     "text": [
      "Generated link for landing page: 23\n",
      "Succesfully opened link: http://www.delish.com//landing-feed-special/1/23?&id=12&template=contenttype&landing=recipes\n",
      "\n",
      "Generated link for landing page: 24\n",
      "Succesfully opened link: http://www.delish.com//landing-feed-special/1/24?&id=12&template=contenttype&landing=recipes\n",
      "\n",
      "Generated link for landing page: 25\n",
      "Succesfully opened link: http://www.delish.com//landing-feed-special/1/25?&id=12&template=contenttype&landing=recipes\n",
      "\n",
      "Generated link for landing page: 26\n",
      "Succesfully opened link: http://www.delish.com//landing-feed-special/1/26?&id=12&template=contenttype&landing=recipes\n",
      "\n",
      "There are a total of 240 recipe links.\n",
      "\n"
     ]
    }
   ],
   "source": [
    "recipes23_26 = get_all_recipes(range(23,27))"
   ]
  },
  {
   "cell_type": "code",
   "execution_count": 26,
   "metadata": {
    "collapsed": false
   },
   "outputs": [
    {
     "name": "stdout",
     "output_type": "stream",
     "text": [
      "Generated link for landing page: 27\n",
      "Succesfully opened link: http://www.delish.com//landing-feed-special/1/27?&id=12&template=contenttype&landing=recipes\n",
      "\n",
      "Generated link for landing page: 28\n",
      "Succesfully opened link: http://www.delish.com//landing-feed-special/1/28?&id=12&template=contenttype&landing=recipes\n",
      "\n",
      "Generated link for landing page: 29\n",
      "Succesfully opened link: http://www.delish.com//landing-feed-special/1/29?&id=12&template=contenttype&landing=recipes\n",
      "\n",
      "Generated link for landing page: 30\n",
      "Succesfully opened link: http://www.delish.com//landing-feed-special/1/30?&id=12&template=contenttype&landing=recipes\n",
      "\n",
      "Generated link for landing page: 31\n",
      "Succesfully opened link: http://www.delish.com//landing-feed-special/1/31?&id=12&template=contenttype&landing=recipes\n",
      "\n",
      "There are a total of 300 recipe links.\n",
      "\n"
     ]
    }
   ],
   "source": [
    "recipes27_31 = get_all_recipes(range(27,32))"
   ]
  },
  {
   "cell_type": "code",
   "execution_count": 27,
   "metadata": {
    "collapsed": false
   },
   "outputs": [
    {
     "name": "stdout",
     "output_type": "stream",
     "text": [
      "Generated link for landing page: 32\n",
      "Succesfully opened link: http://www.delish.com//landing-feed-special/1/32?&id=12&template=contenttype&landing=recipes\n",
      "\n",
      "Generated link for landing page: 33\n",
      "Succesfully opened link: http://www.delish.com//landing-feed-special/1/33?&id=12&template=contenttype&landing=recipes\n",
      "\n",
      "Generated link for landing page: 34\n",
      "Succesfully opened link: http://www.delish.com//landing-feed-special/1/34?&id=12&template=contenttype&landing=recipes\n",
      "\n",
      "Generated link for landing page: 35\n",
      "Succesfully opened link: http://www.delish.com//landing-feed-special/1/35?&id=12&template=contenttype&landing=recipes\n",
      "\n",
      "Generated link for landing page: 36\n",
      "Succesfully opened link: http://www.delish.com//landing-feed-special/1/36?&id=12&template=contenttype&landing=recipes\n",
      "\n",
      "There are a total of 300 recipe links.\n",
      "\n"
     ]
    }
   ],
   "source": [
    "recipes32_36 = get_all_recipes(range(32,37))"
   ]
  },
  {
   "cell_type": "code",
   "execution_count": 32,
   "metadata": {
    "collapsed": false
   },
   "outputs": [
    {
     "name": "stdout",
     "output_type": "stream",
     "text": [
      "Generated link for landing page: 37\n",
      "Succesfully opened link: http://www.delish.com//landing-feed-special/1/37?&id=12&template=contenttype&landing=recipes\n",
      "\n",
      "Generated link for landing page: 38\n",
      "Succesfully opened link: http://www.delish.com//landing-feed-special/1/38?&id=12&template=contenttype&landing=recipes\n",
      "\n",
      "Generated link for landing page: 39\n",
      "Succesfully opened link: http://www.delish.com//landing-feed-special/1/39?&id=12&template=contenttype&landing=recipes\n",
      "\n",
      "Generated link for landing page: 40\n",
      "Succesfully opened link: http://www.delish.com//landing-feed-special/1/40?&id=12&template=contenttype&landing=recipes\n",
      "\n",
      "Generated link for landing page: 41\n",
      "Succesfully opened link: http://www.delish.com//landing-feed-special/1/41?&id=12&template=contenttype&landing=recipes\n",
      "\n",
      "There are a total of 300 recipe links.\n",
      "\n"
     ]
    }
   ],
   "source": [
    "recipes37_41 = get_all_recipes(range(37,42))"
   ]
  },
  {
   "cell_type": "code",
   "execution_count": 51,
   "metadata": {
    "collapsed": false
   },
   "outputs": [
    {
     "name": "stdout",
     "output_type": "stream",
     "text": [
      "Generated link for landing page: 42\n",
      "Succesfully opened link: http://www.delish.com//landing-feed-special/1/42?&id=12&template=contenttype&landing=recipes\n",
      "\n",
      "Generated link for landing page: 43\n",
      "Succesfully opened link: http://www.delish.com//landing-feed-special/1/43?&id=12&template=contenttype&landing=recipes\n",
      "\n",
      "Generated link for landing page: 44\n",
      "Succesfully opened link: http://www.delish.com//landing-feed-special/1/44?&id=12&template=contenttype&landing=recipes\n",
      "\n",
      "Generated link for landing page: 45\n",
      "Succesfully opened link: http://www.delish.com//landing-feed-special/1/45?&id=12&template=contenttype&landing=recipes\n",
      "\n",
      "Generated link for landing page: 46\n",
      "Succesfully opened link: http://www.delish.com//landing-feed-special/1/46?&id=12&template=contenttype&landing=recipes\n",
      "\n",
      "There are a total of 300 recipe links.\n",
      "\n"
     ]
    }
   ],
   "source": [
    "recipes42_46 = get_all_recipes(range(42,47))"
   ]
  },
  {
   "cell_type": "code",
   "execution_count": null,
   "metadata": {
    "collapsed": false,
    "scrolled": true
   },
   "outputs": [
    {
     "name": "stdout",
     "output_type": "stream",
     "text": [
      "Generated link for landing page: 47\n",
      "Succesfully opened link: http://www.delish.com//landing-feed-special/1/47?&id=12&template=contenttype&landing=recipes\n",
      "\n",
      "Generated link for landing page: 48\n",
      "Succesfully opened link: http://www.delish.com//landing-feed-special/1/48?&id=12&template=contenttype&landing=recipes\n",
      "\n",
      "Generated link for landing page: 49\n",
      "Succesfully opened link: http://www.delish.com//landing-feed-special/1/49?&id=12&template=contenttype&landing=recipes\n",
      "\n",
      "Generated link for landing page: 50\n",
      "Succesfully opened link: http://www.delish.com//landing-feed-special/1/50?&id=12&template=contenttype&landing=recipes\n",
      "\n",
      "Generated link for landing page: 51\n",
      "Succesfully opened link: http://www.delish.com//landing-feed-special/1/51?&id=12&template=contenttype&landing=recipes\n",
      "\n",
      "There are a total of 300 recipe links.\n",
      "\n"
     ]
    }
   ],
   "source": [
    "recipes47_51 = get_all_recipes(range(47,52))"
   ]
  },
  {
   "cell_type": "code",
   "execution_count": null,
   "metadata": {
    "collapsed": false
   },
   "outputs": [],
   "source": []
  },
  {
   "cell_type": "code",
   "execution_count": null,
   "metadata": {
    "collapsed": false
   },
   "outputs": [],
   "source": [
    "#Scraping all the pages takes a long time. Best to save the data in a json file\n",
    "with "
   ]
  },
  {
   "cell_type": "code",
   "execution_count": null,
   "metadata": {
    "collapsed": false
   },
   "outputs": [],
   "source": []
  },
  {
   "cell_type": "code",
   "execution_count": null,
   "metadata": {
    "collapsed": false
   },
   "outputs": [],
   "source": []
  },
  {
   "cell_type": "code",
   "execution_count": null,
   "metadata": {
    "collapsed": false
   },
   "outputs": [],
   "source": []
  },
  {
   "cell_type": "code",
   "execution_count": null,
   "metadata": {
    "collapsed": false
   },
   "outputs": [],
   "source": []
  },
  {
   "cell_type": "code",
   "execution_count": null,
   "metadata": {
    "collapsed": true
   },
   "outputs": [],
   "source": []
  },
  {
   "cell_type": "code",
   "execution_count": null,
   "metadata": {
    "collapsed": false
   },
   "outputs": [],
   "source": []
  },
  {
   "cell_type": "code",
   "execution_count": null,
   "metadata": {
    "collapsed": true
   },
   "outputs": [],
   "source": []
  }
 ],
 "metadata": {
  "anaconda-cloud": {},
  "kernelspec": {
   "display_name": "Python [conda env:my_projects_env]",
   "language": "python",
   "name": "conda-env-my_projects_env-py"
  },
  "language_info": {
   "codemirror_mode": {
    "name": "ipython",
    "version": 2
   },
   "file_extension": ".py",
   "mimetype": "text/x-python",
   "name": "python",
   "nbconvert_exporter": "python",
   "pygments_lexer": "ipython2",
   "version": "2.7.13"
  }
 },
 "nbformat": 4,
 "nbformat_minor": 2
}
