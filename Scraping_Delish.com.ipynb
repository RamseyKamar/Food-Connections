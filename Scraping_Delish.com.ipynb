{
 "cells": [
  {
   "cell_type": "code",
   "execution_count": 1,
   "metadata": {
    "collapsed": false
   },
   "outputs": [],
   "source": [
    "from urllib2 import urlopen\n",
    "import lxml\n",
    "from bs4 import BeautifulSoup\n",
    "import re\n",
    "from time import sleep\n",
    "import random\n",
    "import sys"
   ]
  },
  {
   "cell_type": "code",
   "execution_count": 2,
   "metadata": {
    "collapsed": false
   },
   "outputs": [],
   "source": [
    "BASE_URL = \"http://www.delish.com/\""
   ]
  },
  {
   "cell_type": "code",
   "execution_count": 3,
   "metadata": {
    "collapsed": false
   },
   "outputs": [],
   "source": [
    "def generate_landingfeed_link(pagenum):\n",
    "    \"\"\"\n",
    "    Each landing page contains a chunk (~60) of recipes. Get new pages by \n",
    "    incrementing the page number in the url string 'XXX'  '...special/1/XXX?&id=.....\n",
    "    \"\"\"\n",
    "    \n",
    "    #concatenate relevent fragments of a url with a pagenumber\n",
    "    if pagenum <= 71: #only 71 pages exist\n",
    "        landing_page_link = (BASE_URL + '/landing-feed-special/1/' + str(pagenum) +\n",
    "                             '?&id=12&template=contenttype&landing=recipes')\n",
    "        return landing_page_link\n",
    "    else:\n",
    "        print \"Didn\\'t get link. There are only 71 landing pages.\\n\"\n",
    "        return -1\n",
    "    \n",
    "\n",
    "def get_recipe_links(lp_link):\n",
    "    \"\"\"\n",
    "    Gets all the href links on a given landing page.\n",
    "    \"\"\"\n",
    "    try:\n",
    "        html = urlopen(lp_link).read()\n",
    "    except:\n",
    "        print \"%s is not a working link.\\n\" %(lp_link)\n",
    "        return -1\n",
    "    soup = BeautifulSoup(html,'lxml')\n",
    "    #put all links for a given page in a list\n",
    "    recipe_links = [BASE_URL + a['href'] for a in soup.findAll(\"a\",\"landing-feed--special-title link link-txt\")]\n",
    "    return recipe_links\n",
    "    \n",
    "\n",
    "def read_recipe_link(recipe_link):\n",
    "    \"\"\"\n",
    "    Given a link to a recipe on Delish.com, get the name of the recipe and the list of ingredients\n",
    "    \"\"\"\n",
    "    try:\n",
    "        html = urlopen(recipe_link).read()\n",
    "    except:\n",
    "        print \"%s is not a working link.\\n\" %(recipe_link)\n",
    "        return -1\n",
    "    soup = BeautifulSoup(html,'lxml')\n",
    "    #this line gets the recipe name from the article-header\n",
    "    recipe_name = soup.find(\"header\",\"article-header\").h1.string\n",
    "    soup_objs = soup.find('ul','recipe-list recipe-ingredients-list').findAll('li','recipe-ingredients-item')\n",
    "    #get the ingredients list. Every ingredient is preceded by an annoying newline character. Remove it\n",
    "    #before adding to the list.\n",
    "    ingredients = [elem.string.replace('\\n','') for elem in soup_objs]\n",
    "    #return the name of the recipe and its ingredients in a dictionary object\n",
    "    return {recipe_name:ingredients} \n",
    "    \n",
    "def get_all_recipes(num_pages):\n",
    "    \"\"\"\n",
    "    Get all the recipes names and ingredients and store them in a dictionary where the keys are the name and\n",
    "    the ingredients list is the value: {recipe1: [ingr1, ingr2, ....], recipe2:[ingr1, ....]}\n",
    "    \"\"\"\n",
    "    if num_pages > 71:\n",
    "        print \"Didn\\'t get any recipes. Can only look at pages 1 thru 71.\"\n",
    "        return\n",
    "    \n",
    "    recipe_links = []\n",
    "    \n",
    "    #concatenate all the recipe links\n",
    "    for pagenum in range(1,num_pages+1):\n",
    "        landing_page_link =  generate_landingfeed_link(pagenum)\n",
    "        recipe_links = get_recipe_links(landing_page_link)\n",
    "        if recipe_links != -1:\n",
    "            recipe_links.extend(recipe_links)\n",
    "        else:\n",
    "            print \"Had to terminate scraping because a landing page link was bad.\\n\"\n",
    "            return\n",
    "        sleep(random.uniform(2.0, 4.0)) #add a random amount of deadtime so that the server isn't overloaded\n",
    "    \n",
    "    recipeName_ingredients = []\n",
    "    #add each recipe to the list recipe_ingredients which contains json objects\n",
    "    #of the form {\"recipe name\":}\n",
    "    for rlink in recipe_links:\n",
    "        recipe = read_recipe_link(rlink)\n",
    "        if recipe != -1:\n",
    "            recipeName_ingredients.append(recipe)\n",
    "        else:\n",
    "            print \"Had to terminate scraping because a recipe link was bad.\\n\"\n",
    "            return\n",
    "        sleep(random.uniform(2.0, 4.0)) #add a random amount of deadtime so that the server isn't overloaded\n",
    "    return recipeName_ingredients\n",
    "        "
   ]
  },
  {
   "cell_type": "code",
   "execution_count": 4,
   "metadata": {
    "collapsed": false
   },
   "outputs": [
    {
     "name": "stdout",
     "output_type": "stream",
     "text": [
      "Didn't get any recipes. Can only look at pages 1 thru 71.\n"
     ]
    }
   ],
   "source": [
    "recipes = get_all_recipes(72)"
   ]
  },
  {
   "cell_type": "code",
   "execution_count": null,
   "metadata": {
    "collapsed": false
   },
   "outputs": [],
   "source": []
  },
  {
   "cell_type": "code",
   "execution_count": null,
   "metadata": {
    "collapsed": false
   },
   "outputs": [],
   "source": []
  },
  {
   "cell_type": "code",
   "execution_count": null,
   "metadata": {
    "collapsed": true
   },
   "outputs": [],
   "source": []
  }
 ],
 "metadata": {
  "anaconda-cloud": {},
  "kernelspec": {
   "display_name": "Python [conda env:my_projects_env]",
   "language": "python",
   "name": "conda-env-my_projects_env-py"
  },
  "language_info": {
   "codemirror_mode": {
    "name": "ipython",
    "version": 2
   },
   "file_extension": ".py",
   "mimetype": "text/x-python",
   "name": "python",
   "nbconvert_exporter": "python",
   "pygments_lexer": "ipython2",
   "version": "2.7.13"
  }
 },
 "nbformat": 4,
 "nbformat_minor": 2
}
